{
 "cells": [
  {
   "cell_type": "code",
   "execution_count": 30,
   "metadata": {},
   "outputs": [],
   "source": [
    "import pandas as pd"
   ]
  },
  {
   "cell_type": "code",
   "execution_count": 31,
   "metadata": {},
   "outputs": [],
   "source": [
    "price_confectionary = pd.read_excel(r\"C:\\Users\\socia\\Downloads\\Fall 2024\\Telling stories with data\\Student IronViz Data.xlsx\", sheet_name='Confectionery - Price - Pivoted')"
   ]
  },
  {
   "cell_type": "code",
   "execution_count": 32,
   "metadata": {},
   "outputs": [],
   "source": [
    "price_confectionary.iloc[0,0] = 'Category'\n",
    "price_confectionary.columns = price_confectionary.iloc[0]\n",
    "price_confectionary.drop(0, inplace=True, axis = 0)"
   ]
  },
  {
   "cell_type": "code",
   "execution_count": 35,
   "metadata": {},
   "outputs": [],
   "source": [
    "price_confectionary.head(5)\n",
    "price_confectionary = pd.melt(price_confectionary, id_vars=['Category'], value_vars=[2018.0,     2019.0,     2020.0,     2021.0,     2022.0,\n",
    "           2023.0,     2024.0,     2025.0,     2026.0,     2027.0,     2028.0,\n",
    "           2029.0], var_name='Year', value_name='Price')"
   ]
  },
  {
   "cell_type": "code",
   "execution_count": 37,
   "metadata": {},
   "outputs": [],
   "source": [
    "price_confectionary.to_csv('confectionary_price')"
   ]
  }
 ],
 "metadata": {
  "kernelspec": {
   "display_name": "base",
   "language": "python",
   "name": "python3"
  },
  "language_info": {
   "codemirror_mode": {
    "name": "ipython",
    "version": 3
   },
   "file_extension": ".py",
   "mimetype": "text/x-python",
   "name": "python",
   "nbconvert_exporter": "python",
   "pygments_lexer": "ipython3",
   "version": "3.11.5"
  }
 },
 "nbformat": 4,
 "nbformat_minor": 2
}
