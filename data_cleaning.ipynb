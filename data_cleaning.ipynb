{
 "cells": [
  {
   "cell_type": "code",
   "execution_count": 62,
   "metadata": {},
   "outputs": [],
   "source": [
    "import pandas as pd"
   ]
  },
  {
   "cell_type": "code",
   "execution_count": 63,
   "metadata": {},
   "outputs": [],
   "source": [
    "price_confectionary = pd.read_excel(r\"C:\\Users\\socia\\Downloads\\Fall 2024\\Telling stories with data\\Student IronViz Data.xlsx\", sheet_name='Confectionery - Price - Pivoted')"
   ]
  },
  {
   "cell_type": "code",
   "execution_count": 64,
   "metadata": {},
   "outputs": [],
   "source": [
    "price_confectionary.iloc[0,0] = 'Category'\n",
    "price_confectionary.columns = price_confectionary.iloc[0]\n",
    "price_confectionary.drop(0, inplace=True, axis = 0)"
   ]
  },
  {
   "cell_type": "code",
   "execution_count": 65,
   "metadata": {},
   "outputs": [
    {
     "data": {
      "text/plain": [
       "(60, 3)"
      ]
     },
     "execution_count": 65,
     "metadata": {},
     "output_type": "execute_result"
    }
   ],
   "source": [
    "price_confectionary.head(5)\n",
    "price_confectionary = pd.melt(price_confectionary, id_vars=['Category'], value_vars=[2018.0,     2019.0,     2020.0,     2021.0,     2022.0,\n",
    "           2023.0,     2024.0,     2025.0,     2026.0,     2027.0,     2028.0,\n",
    "           2029.0], var_name='Year', value_name='Price')\n",
    "price_confectionary.shape"
   ]
  },
  {
   "cell_type": "code",
   "execution_count": 66,
   "metadata": {},
   "outputs": [],
   "source": [
    "price_confectionary.to_csv('confectionary_price.csv')"
   ]
  },
  {
   "cell_type": "code",
   "execution_count": 67,
   "metadata": {},
   "outputs": [],
   "source": [
    "price_confectionary.head(5)\n",
    "rev_confectionary = pd.read_excel(r\"C:\\Users\\socia\\Downloads\\Fall 2024\\Telling stories with data\\Student IronViz Data.xlsx\", sheet_name='Confectionery - Revenue - Unpiv')\n",
    "vol_confectionary = pd.read_excel(r\"C:\\Users\\socia\\Downloads\\Fall 2024\\Telling stories with data\\Student IronViz Data.xlsx\", sheet_name='Confectionery - Volume - Unpivo')\n",
    "price_demand = price_confectionary.merge(right=rev_confectionary, left_on=['Category', 'Year'], right_on=['Confectionery','Year']).drop(columns=['Confectionery'])\n",
    "price_demand = price_demand.merge(right=vol_confectionary, left_on=['Category', 'Year'], right_on=['Confectionery','Year']).drop(columns=['Confectionery'])"
   ]
  },
  {
   "cell_type": "code",
   "execution_count": 68,
   "metadata": {},
   "outputs": [],
   "source": [
    "price_demand.head(10)\n",
    "price_demand.to_csv('confectionary_elasticity.csv')"
   ]
  },
  {
   "cell_type": "code",
   "execution_count": null,
   "metadata": {},
   "outputs": [],
   "source": []
  }
 ],
 "metadata": {
  "kernelspec": {
   "display_name": "base",
   "language": "python",
   "name": "python3"
  },
  "language_info": {
   "codemirror_mode": {
    "name": "ipython",
    "version": 3
   },
   "file_extension": ".py",
   "mimetype": "text/x-python",
   "name": "python",
   "nbconvert_exporter": "python",
   "pygments_lexer": "ipython3",
   "version": "3.11.5"
  }
 },
 "nbformat": 4,
 "nbformat_minor": 2
}
